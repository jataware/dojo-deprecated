{
 "cells": [
  {
   "cell_type": "code",
   "execution_count": 1,
   "metadata": {},
   "outputs": [],
   "source": [
    "import requests\n",
    "import json"
   ]
  },
  {
   "cell_type": "code",
   "execution_count": 2,
   "metadata": {},
   "outputs": [],
   "source": [
    "url = 'http://localhost:8000'\n",
    "headers = {'Content-Type': 'application/json'}"
   ]
  },
  {
   "cell_type": "markdown",
   "metadata": {},
   "source": [
    "### Create Model"
   ]
  },
  {
   "cell_type": "code",
   "execution_count": 3,
   "metadata": {},
   "outputs": [
    {
     "name": "stdout",
     "output_type": "stream",
     "text": [
      "Created model with id = maxhop-v0.2\n"
     ]
    }
   ],
   "source": [
    "payload = open('maxhop.json').read()\n",
    "resp = requests.post(f\"{url}/models\", data=payload)\n",
    "print(resp.text)"
   ]
  },
  {
   "cell_type": "markdown",
   "metadata": {},
   "source": [
    "### Add Directive"
   ]
  },
  {
   "cell_type": "code",
   "execution_count": 4,
   "metadata": {
    "scrolled": true
   },
   "outputs": [
    {
     "data": {
      "text/plain": [
       "'Created directive for model with id = maxhop-directive-1'"
      ]
     },
     "execution_count": 4,
     "metadata": {},
     "output_type": "execute_result"
    }
   ],
   "source": [
    "directive = {\n",
    "    \"id\": \"maxhop-directive-1\",\n",
    "    \"model_id\": \"maxhop-v0.2\",\n",
    "    \"command\": \"--country={{ country }} --annualPrecipIncrease={{ annualPrecipIncrease }} --meanTempIncrease=-{{ meanTempIncrease }} --format=GTiff\",\n",
    "    \"output_directory\": \"/usr/local/src/myscripts/output\"\n",
    "}\n",
    "\n",
    "resp = requests.post(f\"{url}/dojo/directive\", json=directive)\n",
    "resp.text"
   ]
  },
  {
   "cell_type": "markdown",
   "metadata": {},
   "source": [
    "### Add OutputFile"
   ]
  },
  {
   "cell_type": "code",
   "execution_count": 7,
   "metadata": {},
   "outputs": [],
   "source": [
    "mapper = json.loads(open('mapper.json').read())"
   ]
  },
  {
   "cell_type": "code",
   "execution_count": 9,
   "metadata": {},
   "outputs": [
    {
     "data": {
      "text/plain": [
       "'Created outputfile(s) for model with id = maxhop-v0.2'"
      ]
     },
     "execution_count": 9,
     "metadata": {},
     "output_type": "execute_result"
    }
   ],
   "source": [
    "outputfile = {\n",
    "    \"id\": \"maxhop-outputfile-1\",\n",
    "    \"model_id\": \"maxhop-v0.2\",\n",
    "    \"name\": \"Hopper Presence Prediction\",\n",
    "    \"file_type\": \"geotiff\",\n",
    "    \"path\": \"maxent_Ethiopia_precipChange={{ annualPrecipIncrease }}tempChange=-{{ meanTempIncrease }}.tif\",\n",
    "    \"transform\": mapper,\n",
    "}\n",
    "\n",
    "resp = requests.post(f\"{url}/dojo/outputfile\", json=[outputfile])\n",
    "resp.text"
   ]
  }
 ],
 "metadata": {
  "kernelspec": {
   "display_name": "Python 3",
   "language": "python",
   "name": "python3"
  },
  "language_info": {
   "codemirror_mode": {
    "name": "ipython",
    "version": 3
   },
   "file_extension": ".py",
   "mimetype": "text/x-python",
   "name": "python",
   "nbconvert_exporter": "python",
   "pygments_lexer": "ipython3",
   "version": "3.9.4"
  }
 },
 "nbformat": 4,
 "nbformat_minor": 4
}
