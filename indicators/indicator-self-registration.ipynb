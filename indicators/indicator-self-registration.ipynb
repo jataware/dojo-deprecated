{
 "cells": [
  {
   "cell_type": "markdown",
   "id": "6ea08b7b",
   "metadata": {},
   "source": [
    "# Indicator Self Registration\n",
    "\n",
    "This notebook demonstrates how to register an indicator if you have an indicator dataset in the CauseMos compliant format and have the associated metadata in a schema compliant JSON format.\n",
    "\n",
    "First you should make sure the appropriate environment variables are set (in the terminal, before running this notebook):\n",
    "\n",
    "```\n",
    "export AWS_ACCESS_KEY=KEY_GOES_HERE\n",
    "export AWS_SECRET_KEY=SECRET_KEY_GOES_HERE\n",
    "export DOJO_USER=DOJO_USERNAME_GOES_HERE\n",
    "export DOJO_PWD=DOJO_PASSWORD_GOES_HERE\n",
    "```\n",
    "\n",
    "**Requirements**:\n",
    "\n",
    "```\n",
    "boto3==1.16.41\n",
    "pandas==1.2.4\n",
    "requests==2.25.1\n",
    "pydantic==1.8.2\n",
    "```\n",
    "\n",
    "**Contact**: please reach out to dojo@jataware.com with any questions or issues."
   ]
  },
  {
   "cell_type": "code",
   "execution_count": 1,
   "id": "9706b35a",
   "metadata": {},
   "outputs": [],
   "source": [
    "import os\n",
    "import requests\n",
    "from requests.auth import HTTPBasicAuth\n",
    "import json\n",
    "import sys\n",
    "import pandas as pd\n",
    "import boto3"
   ]
  },
  {
   "cell_type": "markdown",
   "id": "53fc17f9",
   "metadata": {},
   "source": [
    "In order to validate your indicator metadata against the `indicator` schema you should run the following:"
   ]
  },
  {
   "cell_type": "code",
   "execution_count": 2,
   "id": "80799c40",
   "metadata": {},
   "outputs": [],
   "source": [
    "# Update path accordingly to `dojo/api/src/validation`:\n",
    "sys.path.insert(0, \"../api/validation\")\n",
    "from IndicatorSchema import IndicatorMetadataSchema"
   ]
  },
  {
   "cell_type": "code",
   "execution_count": 3,
   "id": "4d04a316",
   "metadata": {},
   "outputs": [],
   "source": [
    "def validate_metadata(metadata_path):\n",
    "    with open(metadata_path,'r') as f:\n",
    "        ind_meta = json.loads(f.read())\n",
    "        try:\n",
    "            IndicatorMetadataSchema(**ind_meta)\n",
    "        except Exception as e:\n",
    "            raise Exception(f\"Metadata is not schema compliant: {e}\")\n",
    "        return ind_meta"
   ]
  },
  {
   "cell_type": "code",
   "execution_count": 4,
   "id": "e1854aed",
   "metadata": {},
   "outputs": [],
   "source": [
    "def validate_indicator(indicator_path):\n",
    "    required = ['timestamp','country','admin1','admin2','admin3','lat','lng','feature','value']\n",
    "    df = pd.read_parquet(indicator_path)\n",
    "    missing = set(required)-set(df.columns)\n",
    "    if len(missing) != 0:\n",
    "        raise Exception(f\"Indicator is missing required column(s): {list(missing)}\")"
   ]
  },
  {
   "cell_type": "code",
   "execution_count": 5,
   "id": "d5b3d352",
   "metadata": {},
   "outputs": [],
   "source": [
    "def register_indicator(indicator_path, metadata_path):\n",
    "    s3_accessKey = os.getenv(\"AWS_ACCESS_KEY\")\n",
    "    s3_secretKey = os.getenv(\"AWS_SECRET_KEY\")\n",
    "    dojo_username = os.getenv(\"DOJO_USER\")\n",
    "    dojo_password = os.getenv(\"DOJO_PWD\")\n",
    "    \n",
    "    bucket_name = \"jataware-world-modelers\"\n",
    "    url = \"http://dojo-test.com/indicators/\"\n",
    "    header = {\"content-type\": \"application/json\"}\n",
    "    \n",
    "    # Validate data and metadata\n",
    "    ind_meta = validate_metadata(metadata_path)\n",
    "    validate_indicator(indicator_path)\n",
    "    \n",
    "    # Store data to S3\n",
    "    print(\"Uploading dataset to S3...\")\n",
    "    session = boto3.Session(aws_access_key_id=s3_accessKey, aws_secret_access_key=s3_secretKey)\n",
    "    s3 = session.resource(\"s3\")\n",
    "    s3_client = session.client(\"s3\")   \n",
    "    s3_key = f\"indicators/causemosified/{ind_meta['id']}.parquet.gzip\"\n",
    "    s3_client.upload_file(indicator_path, \n",
    "                          bucket_name, \n",
    "                          s3_key,\n",
    "                          ExtraArgs={'ACL':'public-read'}) # here we make the file public    \n",
    "    s3_url = f\"https://jataware-world-modelers.s3.amazonaws.com/indicators/causemosified/{ind_meta['id']}.parquet.gzip\"\n",
    "    ind_meta[\"data_paths\"] = [s3_url]\n",
    "    print(f\"Uploaded to {s3_url}\")\n",
    "    \n",
    "    # Register metadata\n",
    "    print(\"Registering to Dojo...\")\n",
    "    response = requests.post(url, data=json.dumps(ind_meta), headers=header, auth=auth=HTTPBasicAuth(dojo_username, dojo_password))\n",
    "    print(response.text)"
   ]
  },
  {
   "cell_type": "code",
   "execution_count": 6,
   "id": "2a520234",
   "metadata": {},
   "outputs": [
    {
     "name": "stdout",
     "output_type": "stream",
     "text": [
      "Uploading dataset to S3...\n",
      "Uploaded to https://jataware-world-modelers.s3.amazonaws.com/indicators/causemosified/ETH-CENSUS.parquet.gzip\n",
      "Registering to Dojo...\n",
      "Created indicator with id = ETH-CENSUS\n"
     ]
    }
   ],
   "source": [
    "register_indicator('example.parquet.gzip','example.json')"
   ]
  }
 ],
 "metadata": {
  "kernelspec": {
   "display_name": "Python 3",
   "language": "python",
   "name": "python3"
  },
  "language_info": {
   "codemirror_mode": {
    "name": "ipython",
    "version": 3
   },
   "file_extension": ".py",
   "mimetype": "text/x-python",
   "name": "python",
   "nbconvert_exporter": "python",
   "pygments_lexer": "ipython3",
   "version": "3.9.4"
  }
 },
 "nbformat": 4,
 "nbformat_minor": 5
}
