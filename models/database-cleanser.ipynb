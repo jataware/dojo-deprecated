{
 "cells": [
  {
   "cell_type": "markdown",
   "id": "aa424887",
   "metadata": {},
   "source": [
    "# Database Cleanser\n",
    "\n",
    "This notebook contains tools to cleanup the database and remove testing models and indicators."
   ]
  },
  {
   "cell_type": "code",
   "execution_count": null,
   "id": "ef4f69df",
   "metadata": {},
   "outputs": [],
   "source": [
    "from elasticsearch import Elasticsearch"
   ]
  },
  {
   "cell_type": "code",
   "execution_count": null,
   "id": "f7001aa7",
   "metadata": {},
   "outputs": [],
   "source": [
    "es = Elasticsearch('ES_HOST')"
   ]
  },
  {
   "cell_type": "markdown",
   "id": "dfdd7492",
   "metadata": {},
   "source": [
    "## Delete by ID\n",
    "\n",
    "Delete model and model artifacts by ID"
   ]
  },
  {
   "cell_type": "code",
   "execution_count": null,
   "id": "43cdf6ba",
   "metadata": {},
   "outputs": [],
   "source": [
    "def search_by_model(model_id):\n",
    "    q = {\"query\": {\"term\": {\"model_id.keyword\": {\"value\": model_id, \"boost\": 1.0}}}}\n",
    "    return q\n",
    "\n",
    "def del_by_id(model_id):\n",
    "    try:\n",
    "        print(es.delete(index='models', id=model_id))\n",
    "    except:\n",
    "        pass\n",
    "\n",
    "    # delete directives\n",
    "    results = es.search(index=\"directives\", body=search_by_model(model_id))\n",
    "    print(results)\n",
    "    for directive in results.get('hits',{}).get('hits',[]):\n",
    "        if 'id' in directive:\n",
    "            k_ = 'id'\n",
    "        else:\n",
    "            k_ = '_id'\n",
    "        print(es.delete(index='directives', id=directive[k_]))\n",
    "\n",
    "    # delete configs            \n",
    "    results = es.search(index=\"configs\", body=search_by_model(model_id))\n",
    "    print(results)        \n",
    "    for config in results.get('hits',{}).get('hits',[]):\n",
    "        if 'id' in config:\n",
    "            k_ = 'id'\n",
    "        else:\n",
    "            k_ = '_id'        \n",
    "        print(es.delete(index='configs', id=config[k_]))\n",
    "\n",
    "    # delete outputfiles            \n",
    "    results = es.search(index=\"outputfiles\", body=search_by_model(model_id))\n",
    "    print(results)        \n",
    "    for of in results.get('hits',{}).get('hits',[]):\n",
    "        if 'id' in of:\n",
    "            k_ = 'id'\n",
    "        else:\n",
    "            k_ = '_id'                \n",
    "        print(es.delete(index='outputfiles', id=of[k_]))    \n",
    "        \n",
    "    # delete runs\n",
    "    results = es.search(index=\"runs\", body=search_by_model(model_id))\n",
    "    print(results)\n",
    "    for run in results.get('hits',{}).get('hits',[]):\n",
    "        if 'id' in run:\n",
    "            k_ = 'id'\n",
    "        else:\n",
    "            k_ = '_id'                \n",
    "        print(es.delete(index='outputfiles', id=run[k_]))            "
   ]
  },
  {
   "cell_type": "code",
   "execution_count": null,
   "id": "b1cc1af4",
   "metadata": {},
   "outputs": [],
   "source": [
    "model_id = input()"
   ]
  },
  {
   "cell_type": "code",
   "execution_count": null,
   "id": "95a149ed",
   "metadata": {},
   "outputs": [],
   "source": [
    "print(model_id)\n",
    "del_by_id(model_id)"
   ]
  }
 ],
 "metadata": {
  "kernelspec": {
   "display_name": "Python 3",
   "language": "python",
   "name": "python3"
  },
  "language_info": {
   "codemirror_mode": {
    "name": "ipython",
    "version": 3
   },
   "file_extension": ".py",
   "mimetype": "text/x-python",
   "name": "python",
   "nbconvert_exporter": "python",
   "pygments_lexer": "ipython3",
   "version": "3.9.4"
  }
 },
 "nbformat": 4,
 "nbformat_minor": 5
}
