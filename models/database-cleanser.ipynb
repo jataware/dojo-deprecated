{
 "cells": [
  {
   "cell_type": "markdown",
   "id": "aa424887",
   "metadata": {},
   "source": [
    "# Database Cleanser\n",
    "\n",
    "This notebook contains tools to cleanup the database and remove testing models and indicators."
   ]
  },
  {
   "cell_type": "code",
   "execution_count": null,
   "id": "ef4f69df",
   "metadata": {},
   "outputs": [],
   "source": [
    "from elasticsearch import Elasticsearch\n",
    "import requests\n",
    "import json\n",
    "import os"
   ]
  },
  {
   "cell_type": "code",
   "execution_count": null,
   "id": "f7001aa7",
   "metadata": {},
   "outputs": [],
   "source": [
    "es = Elasticsearch('ES_HERE')\n",
    "causemos_user = 'worldmodelers'\n",
    "causemos_pwd = \"PWD_HERE\""
   ]
  },
  {
   "cell_type": "markdown",
   "id": "dfdd7492",
   "metadata": {},
   "source": [
    "## Delete by ID\n",
    "\n",
    "Delete model and model artifacts by ID"
   ]
  },
  {
   "cell_type": "code",
   "execution_count": null,
   "id": "43cdf6ba",
   "metadata": {},
   "outputs": [],
   "source": [
    "def search_by_model(model_id):\n",
    "    q = {\"query\": {\"term\": {\"model_id.keyword\": {\"value\": model_id, \"boost\": 1.0}}}}\n",
    "    return q\n",
    "\n",
    "def del_by_id(model_id):\n",
    "    try:\n",
    "        print(es.delete(index='models', id=model_id))\n",
    "    except:\n",
    "        pass\n",
    "\n",
    "    # delete directives\n",
    "    results = es.search(index=\"directives\", body=search_by_model(model_id))\n",
    "    print(results)\n",
    "    for directive in results.get('hits',{}).get('hits',[]):\n",
    "        if 'id' in directive:\n",
    "            k_ = 'id'\n",
    "        else:\n",
    "            k_ = '_id'\n",
    "        print(es.delete(index='directives', id=directive[k_]))\n",
    "\n",
    "    # delete configs            \n",
    "    results = es.search(index=\"configs\", body=search_by_model(model_id))\n",
    "    print(results)        \n",
    "    for config in results.get('hits',{}).get('hits',[]):\n",
    "        if 'id' in config:\n",
    "            k_ = 'id'\n",
    "        else:\n",
    "            k_ = '_id'        \n",
    "        print(es.delete(index='configs', id=config[k_]))\n",
    "\n",
    "    # delete outputfiles            \n",
    "    results = es.search(index=\"outputfiles\", body=search_by_model(model_id))\n",
    "    print(results)        \n",
    "    for of in results.get('hits',{}).get('hits',[]):\n",
    "        if 'id' in of:\n",
    "            k_ = 'id'\n",
    "        else:\n",
    "            k_ = '_id'                \n",
    "        print(es.delete(index='outputfiles', id=of[k_]))    \n",
    "        \n",
    "    # delete runs\n",
    "    results = es.search(index=\"runs\", body=search_by_model(model_id))\n",
    "    print(results)\n",
    "    for run in results.get('hits',{}).get('hits',[]):\n",
    "        if 'id' in run:\n",
    "            k_ = 'id'\n",
    "        else:\n",
    "            k_ = '_id'                \n",
    "        print(es.delete(index='outputfiles', id=run[k_]))            "
   ]
  },
  {
   "cell_type": "code",
   "execution_count": null,
   "id": "b1cc1af4",
   "metadata": {},
   "outputs": [],
   "source": [
    "model_id = input()"
   ]
  },
  {
   "cell_type": "code",
   "execution_count": null,
   "id": "9a54e951",
   "metadata": {},
   "outputs": [],
   "source": [
    "model_id = model_id.strip()"
   ]
  },
  {
   "cell_type": "code",
   "execution_count": null,
   "id": "95a149ed",
   "metadata": {},
   "outputs": [],
   "source": [
    "print(model_id)\n",
    "del_by_id(model_id)"
   ]
  },
  {
   "cell_type": "markdown",
   "id": "7c4bd829",
   "metadata": {},
   "source": [
    "## Notify Uncharted of New Model"
   ]
  },
  {
   "cell_type": "code",
   "execution_count": null,
   "id": "3a291435",
   "metadata": {},
   "outputs": [],
   "source": [
    "def notify_causemos(model):\n",
    "    headers = {\"accept\": \"application/json\", \"Content-Type\": \"application/json\"}\n",
    "    \n",
    "    url = 'https://causemos.uncharted.software/api/maas/datacubes'\n",
    "\n",
    "    response = requests.post(\n",
    "        url,\n",
    "        headers={\"Content-Type\": \"application/json\"},\n",
    "        json=model,\n",
    "        auth=(causemos_user, causemos_pwd),\n",
    "    )\n",
    "\n",
    "def submit_run(model):\n",
    "    headers = {\"accept\": \"application/json\", \"Content-Type\": \"application/json\"}\n",
    "    url = 'https://causemos.uncharted.software/api/maas/model-runs'\n",
    "\n",
    "    params = []\n",
    "    for param in model.get(\"parameters\",[]):\n",
    "        param_obj = {}\n",
    "        param_obj['name'] = param['name']\n",
    "        param_obj['value'] = param['default']\n",
    "        params.append(param_obj)\n",
    "\n",
    "    payload = {\"model_id\": model[\"id\"],\n",
    "               \"model_name\": model[\"name\"],\n",
    "               \"is_default_run\": True,\n",
    "               \"parameters\": params}\n",
    "\n",
    "    response = requests.post(\n",
    "        url,\n",
    "        headers={\"Content-Type\": \"application/json\"},\n",
    "        json=payload,\n",
    "        auth=(causemos_user, causemos_pwd),\n",
    "    )"
   ]
  },
  {
   "cell_type": "code",
   "execution_count": null,
   "id": "66077d6d",
   "metadata": {},
   "outputs": [],
   "source": [
    "model_id = input()"
   ]
  },
  {
   "cell_type": "code",
   "execution_count": null,
   "id": "4852d7f8",
   "metadata": {},
   "outputs": [],
   "source": [
    "model_id = model_id.strip()"
   ]
  },
  {
   "cell_type": "code",
   "execution_count": null,
   "id": "51eb3e8f",
   "metadata": {},
   "outputs": [],
   "source": [
    "model = es.get(index='models', id=model_id)['_source']"
   ]
  },
  {
   "cell_type": "code",
   "execution_count": null,
   "id": "283e9ed0",
   "metadata": {},
   "outputs": [],
   "source": [
    "notify_causemos(model)"
   ]
  },
  {
   "cell_type": "code",
   "execution_count": null,
   "id": "2e2ddee6",
   "metadata": {},
   "outputs": [],
   "source": [
    "submit_run(model)"
   ]
  }
 ],
 "metadata": {
  "kernelspec": {
   "display_name": "Python 3",
   "language": "python",
   "name": "python3"
  },
  "language_info": {
   "codemirror_mode": {
    "name": "ipython",
    "version": 3
   },
   "file_extension": ".py",
   "mimetype": "text/x-python",
   "name": "python",
   "nbconvert_exporter": "python",
   "pygments_lexer": "ipython3",
   "version": "3.9.4"
  }
 },
 "nbformat": 4,
 "nbformat_minor": 5
}
