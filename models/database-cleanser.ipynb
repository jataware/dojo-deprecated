{
 "cells": [
  {
   "cell_type": "markdown",
   "id": "aa424887",
   "metadata": {},
   "source": [
    "# Database Cleanser\n",
    "\n",
    "This notebook contains tools to cleanup the database and remove testing models and indicators."
   ]
  },
  {
   "cell_type": "code",
   "execution_count": 1,
   "id": "ef4f69df",
   "metadata": {},
   "outputs": [],
   "source": [
    "from elasticsearch import Elasticsearch"
   ]
  },
  {
   "cell_type": "code",
   "execution_count": 15,
   "id": "f7001aa7",
   "metadata": {},
   "outputs": [],
   "source": [
    "es = Elasticsearch('ES_HOST')"
   ]
  },
  {
   "cell_type": "markdown",
   "id": "dfdd7492",
   "metadata": {},
   "source": [
    "## Delete by ID\n",
    "\n",
    "Delete model and model artifacts by ID"
   ]
  },
  {
   "cell_type": "code",
   "execution_count": 44,
   "id": "43cdf6ba",
   "metadata": {},
   "outputs": [],
   "source": [
    "def search_by_model(model_id):\n",
    "    q = {\"query\": {\"term\": {\"model_id.keyword\": {\"value\": model_id, \"boost\": 1.0}}}}\n",
    "    return q\n",
    "\n",
    "def del_by_id(model_id):\n",
    "    print(es.delete(index='models', id=model_id))\n",
    "\n",
    "    # delete directives\n",
    "    results = es.search(index=\"directives\", body=search_by_model(model_id))\n",
    "    print(results)\n",
    "    for directive in results['hits']['hits']:\n",
    "        print(es.delete(index='directives', id=directive['id']))\n",
    "\n",
    "    # delete configs            \n",
    "    results = es.search(index=\"configs\", body=search_by_model(model_id))\n",
    "    print(results)        \n",
    "    for config in results['hits']['hits']:\n",
    "        print(es.delete(index='configs', id=config['id']))\n",
    "\n",
    "    # delete outputfiles            \n",
    "    results = es.search(index=\"outputfiles\", body=search_by_model(model_id))\n",
    "    print(results)        \n",
    "    for of in results['hits']['hits']:\n",
    "        print(es.delete(index='outputfiles', id=of['id']))           "
   ]
  },
  {
   "cell_type": "code",
   "execution_count": 62,
   "id": "a0746f13",
   "metadata": {},
   "outputs": [
    {
     "name": "stdout",
     "output_type": "stream",
     "text": [
      "{'_index': 'models', '_type': '_doc', '_id': 'cc23de69-18ac-4291-9b81-77ebc2417cb2', '_version': 2, 'result': 'deleted', '_shards': {'total': 2, 'successful': 1, 'failed': 0}, '_seq_no': 28, '_primary_term': 1}\n",
      "{'took': 0, 'timed_out': False, '_shards': {'total': 5, 'successful': 5, 'skipped': 0, 'failed': 0}, 'hits': {'total': {'value': 0, 'relation': 'eq'}, 'max_score': None, 'hits': []}}\n",
      "{'took': 0, 'timed_out': False, '_shards': {'total': 5, 'successful': 5, 'skipped': 0, 'failed': 0}, 'hits': {'total': {'value': 0, 'relation': 'eq'}, 'max_score': None, 'hits': []}}\n",
      "{'took': 0, 'timed_out': False, '_shards': {'total': 5, 'successful': 5, 'skipped': 0, 'failed': 0}, 'hits': {'total': {'value': 0, 'relation': 'eq'}, 'max_score': None, 'hits': []}}\n"
     ]
    }
   ],
   "source": [
    "del_by_id('cc23de69-18ac-4291-9b81-77ebc2417cb2')"
   ]
  }
 ],
 "metadata": {
  "kernelspec": {
   "display_name": "Python 3",
   "language": "python",
   "name": "python3"
  },
  "language_info": {
   "codemirror_mode": {
    "name": "ipython",
    "version": 3
   },
   "file_extension": ".py",
   "mimetype": "text/x-python",
   "name": "python",
   "nbconvert_exporter": "python",
   "pygments_lexer": "ipython3",
   "version": "3.9.4"
  }
 },
 "nbformat": 4,
 "nbformat_minor": 5
}
